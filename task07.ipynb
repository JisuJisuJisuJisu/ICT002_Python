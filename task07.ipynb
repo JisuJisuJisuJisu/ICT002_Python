{
  "nbformat": 4,
  "nbformat_minor": 0,
  "metadata": {
    "colab": {
      "provenance": [],
      "authorship_tag": "ABX9TyNeeogSihY7xNEvG7W4rFHx",
      "include_colab_link": true
    },
    "kernelspec": {
      "name": "python3",
      "display_name": "Python 3"
    },
    "language_info": {
      "name": "python"
    }
  },
  "cells": [
    {
      "cell_type": "markdown",
      "metadata": {
        "id": "view-in-github",
        "colab_type": "text"
      },
      "source": [
        "<a href=\"https://colab.research.google.com/github/JisuJisuJisuJisu/ICT002_Python/blob/main/task07.ipynb\" target=\"_parent\"><img src=\"https://colab.research.google.com/assets/colab-badge.svg\" alt=\"Open In Colab\"/></a>"
      ]
    },
    {
      "cell_type": "code",
      "source": [
        "langStr=(\"Java\",\"C\",\"Python\",\"R\",\"Web\")\n",
        "list(map(lambda x:len(x), langStr))\n",
        "\n",
        "def sort_len(x):\n",
        "    return -len(x)\n",
        "\n",
        "langStr=(\"Java\",\"C\",\"Python\",\"R\",\"Web\")\n",
        "strnum=list(map(lambda x:len(x), langStr))\n",
        "\n",
        "strnum.sort(reverse=True)\n",
        "\n",
        "sorted_langStr = tuple(sorted(langStr, key=sort_len))\n",
        "\n",
        "for i,j in zip(sorted_langStr,strnum):\n",
        "  print(\"{}\\t{}\".format(i,j))\n"
      ],
      "metadata": {
        "colab": {
          "base_uri": "https://localhost:8080/"
        },
        "id": "IDqTWkHkOxqK",
        "outputId": "ea621f1a-bf10-4620-aba5-ed9073669856"
      },
      "execution_count": null,
      "outputs": [
        {
          "output_type": "stream",
          "name": "stdout",
          "text": [
            "Python\t6\n",
            "Java\t4\n",
            "Web\t3\n",
            "C\t1\n",
            "R\t1\n"
          ]
        }
      ]
    },
    {
      "cell_type": "code",
      "source": [],
      "metadata": {
        "id": "rPmpRJMsRUHQ"
      },
      "execution_count": null,
      "outputs": []
    }
  ]
}