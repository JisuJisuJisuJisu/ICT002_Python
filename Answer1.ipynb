{
  "nbformat": 4,
  "nbformat_minor": 0,
  "metadata": {
    "colab": {
      "provenance": [],
      "authorship_tag": "ABX9TyPdW5k55Us7PGT4fxMDIVk3",
      "include_colab_link": true
    },
    "kernelspec": {
      "name": "python3",
      "display_name": "Python 3"
    },
    "language_info": {
      "name": "python"
    }
  },
  "cells": [
    {
      "cell_type": "markdown",
      "metadata": {
        "id": "view-in-github",
        "colab_type": "text"
      },
      "source": [
        "<a href=\"https://colab.research.google.com/github/JisuJisuJisuJisu/ICT002_Python/blob/main/Answer1.ipynb\" target=\"_parent\"><img src=\"https://colab.research.google.com/assets/colab-badge.svg\" alt=\"Open In Colab\"/></a>"
      ]
    },
    {
      "cell_type": "code",
      "source": [
        "user = str(input())\n",
        "\n",
        "for char in user:\n",
        "    if char in \"<\":\n",
        "        user = user.replace(char,\"\") \n",
        "\n",
        "result= user.split(\">\")\n",
        "#user.split(\">\") # split() 함수 이용\n",
        "\n",
        "print(result)\n",
        "\n",
        "del result[-1]\n",
        "\n",
        "search = result[0]\n",
        "for word in result:\n",
        "    if search in word: \n",
        "        result.remove(word)\n",
        "\n",
        "for i in result:\n",
        "  if '/'+i in result:\n",
        "    result.remove(i) \n",
        "\n",
        "\n",
        "print(result)\n",
        "\n",
        "search = \"/\"\n",
        "for word in result:\n",
        "    if search in word: \n",
        "        result.remove(word)\n",
        "\n",
        "for i in result:\n",
        "  if '/'+i in result:\n",
        "    result.remove(i)       \n",
        "\n",
        "search = \"/\"\n",
        "for word in result:\n",
        "    if search in word: \n",
        "        result.remove(word)\n",
        "        \n",
        "print(result)"
      ],
      "metadata": {
        "colab": {
          "base_uri": "https://localhost:8080/"
        },
        "id": "gjVtzfW3U2iB",
        "outputId": "d700e106-6fcd-4c5f-dab8-3ac1c239e304"
      },
      "execution_count": 32,
      "outputs": [
        {
          "output_type": "stream",
          "name": "stdout",
          "text": [
            "<div>abc</div><p><em><i>test test test</b></em></p>\n",
            "['div', 'abc/div', 'p', 'em', 'i', 'test test test/b', '/em', '/p', '']\n",
            "['abc/div', 'em', 'i', 'test test test/b', '/em', '/p']\n",
            "['i']\n"
          ]
        }
      ]
    }
  ]
}