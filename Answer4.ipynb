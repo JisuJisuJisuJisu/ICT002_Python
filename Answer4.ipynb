{
  "nbformat": 4,
  "nbformat_minor": 0,
  "metadata": {
    "colab": {
      "provenance": [],
      "authorship_tag": "ABX9TyN/wMXObxx4yX9N7YU45u5E",
      "include_colab_link": true
    },
    "kernelspec": {
      "name": "python3",
      "display_name": "Python 3"
    },
    "language_info": {
      "name": "python"
    }
  },
  "cells": [
    {
      "cell_type": "markdown",
      "metadata": {
        "id": "view-in-github",
        "colab_type": "text"
      },
      "source": [
        "<a href=\"https://colab.research.google.com/github/JisuJisuJisuJisu/ICT002_Python/blob/main/Answer4.ipynb\" target=\"_parent\"><img src=\"https://colab.research.google.com/assets/colab-badge.svg\" alt=\"Open In Colab\"/></a>"
      ]
    },
    {
      "cell_type": "code",
      "execution_count": 35,
      "metadata": {
        "colab": {
          "base_uri": "https://localhost:8080/"
        },
        "id": "HLgEuqFWGSEK",
        "outputId": "14ae578d-0036-4c1c-f321-bd9c2e9cea69"
      },
      "outputs": [
        {
          "output_type": "stream",
          "name": "stdout",
          "text": [
            "<div><div><b></b></div></p>\n",
            "['div']\n"
          ]
        }
      ],
      "source": [
        "user = str(input())\n",
        "\n",
        "for char in user:\n",
        "    if char in \"<\":\n",
        "        user = user.replace(char,\"\") \n",
        "\n",
        "result= user.split(\">\")\n",
        "#user.split(\">\") # split() 함수 이용\n",
        "\n",
        "del result[-1]\n",
        "#print('result: ',result)\n",
        "\n",
        "newresult = []\n",
        "for i in result:\n",
        "  for s in result:\n",
        "    if '/'+s in i:\n",
        "        newresult.append(s)\n",
        "\n",
        "newresult2 = list(set(newresult))\n",
        "\n",
        "#print('newresult: ',newresult)\n",
        "#print('newresult2: ',newresult2)\n",
        "\n",
        "for q in newresult2:\n",
        "  if q in result:\n",
        "    result.remove(q)\n",
        "\n",
        "#print('result-newresult2: ',result)\n",
        "\n",
        "search = \"/\"\n",
        "for word in result:\n",
        "    if search in word: \n",
        "        result.remove(word)\n",
        "        \n",
        "search = \"/\"\n",
        "for word in result:\n",
        "    if search in word: \n",
        "        result.remove(word)\n",
        "\n",
        "print(result)"
      ]
    }
  ]
}