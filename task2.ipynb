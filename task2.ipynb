{
  "nbformat": 4,
  "nbformat_minor": 0,
  "metadata": {
    "colab": {
      "provenance": [],
      "authorship_tag": "ABX9TyOrzoAi1mtuMkYqXuWjZDzW",
      "include_colab_link": true
    },
    "kernelspec": {
      "name": "python3",
      "display_name": "Python 3"
    },
    "language_info": {
      "name": "python"
    }
  },
  "cells": [
    {
      "cell_type": "markdown",
      "metadata": {
        "id": "view-in-github",
        "colab_type": "text"
      },
      "source": [
        "<a href=\"https://colab.research.google.com/github/JisuJisuJisuJisu/ICT002_Python/blob/main/task2.ipynb\" target=\"_parent\"><img src=\"https://colab.research.google.com/assets/colab-badge.svg\" alt=\"Open In Colab\"/></a>"
      ]
    },
    {
      "cell_type": "code",
      "execution_count": null,
      "metadata": {
        "colab": {
          "base_uri": "https://localhost:8080/"
        },
        "id": "YUvdqV8p3fCR",
        "outputId": "d7716ef7-1006-4be8-8310-fc6aab816f05"
      },
      "outputs": [
        {
          "output_type": "stream",
          "name": "stdout",
          "text": [
            "부모님으로 부터 받은 용돈:10000\n",
            "거스름돈: 6450원\n",
            "500원 짜리 거스름돈: 12개\n",
            "100원 짜리 거스름돈: 4개\n",
            "50원 짜리 거스름돈: 1개\n"
          ]
        }
      ],
      "source": [
        "all=int(input(\"부모님으로 부터 받은 용돈:\"))\n",
        "cookie=all-3550\n",
        "five=cookie//500\n",
        "one=(cookie-500*five)//100\n",
        "fifty=(cookie-500*five-100*one)//50\n",
        "print(f\"거스름돈: {cookie}원\") \n",
        "print(f\"500원 짜리 거스름돈: {five}개\")\n",
        "print(f\"100원 짜리 거스름돈: {one}개\")\n",
        "print(f\"50원 짜리 거스름돈: {fifty}개\")"
      ]
    },
    {
      "cell_type": "code",
      "source": [
        "alphabet=ord(input(\"알파벳을 입력하세요: \"))\n",
        "message=\"대문자입니다.\" if ord(\"A\")<=alphabet<=ord(\"Z\") else \"소문자입니다.\"\n",
        "capital=chr(alphabet)\n",
        "print(f\"당신이 입력한 문자 {capital}는 {message}\")  \n"
      ],
      "metadata": {
        "colab": {
          "base_uri": "https://localhost:8080/"
        },
        "id": "_iE5LQFSIE9Q",
        "outputId": "2a621da7-398b-4833-910b-f268ef105311"
      },
      "execution_count": 41,
      "outputs": [
        {
          "output_type": "stream",
          "name": "stdout",
          "text": [
            "알파벳을 입력하세요: F\n",
            "당신이 입력한 문자 F는 대문자입니다.\n"
          ]
        }
      ]
    }
  ]
}