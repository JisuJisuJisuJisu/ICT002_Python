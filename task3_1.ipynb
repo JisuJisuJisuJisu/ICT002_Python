{
  "nbformat": 4,
  "nbformat_minor": 0,
  "metadata": {
    "colab": {
      "provenance": [],
      "collapsed_sections": [],
      "authorship_tag": "ABX9TyPs7GdFKJWn+s5ZiP8jdbdG",
      "include_colab_link": true
    },
    "kernelspec": {
      "name": "python3",
      "display_name": "Python 3"
    },
    "language_info": {
      "name": "python"
    }
  },
  "cells": [
    {
      "cell_type": "markdown",
      "metadata": {
        "id": "view-in-github",
        "colab_type": "text"
      },
      "source": [
        "<a href=\"https://colab.research.google.com/github/JisuJisuJisuJisu/ICT002_Python/blob/main/task3_1.ipynb\" target=\"_parent\"><img src=\"https://colab.research.google.com/assets/colab-badge.svg\" alt=\"Open In Colab\"/></a>"
      ]
    },
    {
      "cell_type": "code",
      "source": [
        "for i in range(5,0,-1):\n",
        "  for j in range(1,1+i,1):\n",
        "    print(j,end=\"\")\n",
        "  print()"
      ],
      "metadata": {
        "colab": {
          "base_uri": "https://localhost:8080/"
        },
        "id": "IgqfzACMapEa",
        "outputId": "881343df-1478-4559-9e31-337b115bc272"
      },
      "execution_count": null,
      "outputs": [
        {
          "output_type": "stream",
          "name": "stdout",
          "text": [
            "12345\n",
            "1234\n",
            "123\n",
            "12\n",
            "1\n"
          ]
        }
      ]
    },
    {
      "cell_type": "code",
      "source": [
        "for i in range(a):\n",
        "  a=int(input(\"숫자 입력:\"))\n",
        "  b=0\n",
        "\n",
        "  for i in range(2,a):\n",
        "    if a%i==0:\n",
        "      b=1\n",
        "\n",
        "  if b==0:\n",
        "    print(f\"{a}은(는) 소수 입니다.\") \n",
        "  else:\n",
        "    print(f\"{a}은(는) 소수가 아닙니다.\")"
      ],
      "metadata": {
        "id": "YWboQ84enLwz"
      },
      "execution_count": null,
      "outputs": []
    }
  ]
}