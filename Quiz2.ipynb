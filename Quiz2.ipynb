{
  "nbformat": 4,
  "nbformat_minor": 0,
  "metadata": {
    "colab": {
      "provenance": [],
      "authorship_tag": "ABX9TyP0T6YbeSn8rsW45F44id/C",
      "include_colab_link": true
    },
    "kernelspec": {
      "name": "python3",
      "display_name": "Python 3"
    },
    "language_info": {
      "name": "python"
    }
  },
  "cells": [
    {
      "cell_type": "markdown",
      "metadata": {
        "id": "view-in-github",
        "colab_type": "text"
      },
      "source": [
        "<a href=\"https://colab.research.google.com/github/JisuJisuJisuJisu/ICT002_Python/blob/main/Quiz2.ipynb\" target=\"_parent\"><img src=\"https://colab.research.google.com/assets/colab-badge.svg\" alt=\"Open In Colab\"/></a>"
      ]
    },
    {
      "cell_type": "code",
      "execution_count": 23,
      "metadata": {
        "colab": {
          "base_uri": "https://localhost:8080/"
        },
        "id": "WXVnXaHHq0Mx",
        "outputId": "913f6277-7510-4868-d4f7-366d004e833a"
      },
      "outputs": [
        {
          "output_type": "stream",
          "name": "stdout",
          "text": [
            "Floor:6\n",
            "123456\n",
            "12345\n",
            "1234\n",
            "123\n",
            "12\n",
            "1\n"
          ]
        }
      ],
      "source": [
        "floor=int(input(\"Floor:\"))\n",
        "for i in range(floor,0,-1):\n",
        "  for j in range(1,i+1,1):\n",
        "    print(j,end=\"\")\n",
        "  print()"
      ]
    },
    {
      "cell_type": "code",
      "source": [
        "import random\n",
        "number=random.randint(1,15)\n",
        "\n",
        "numlist=[number]\n",
        "numlist.append(random.randint(1,15))\n",
        "numlist.append(random.randint(1,15))\n",
        "numlist.append(random.randint(1,15))\n",
        "numlist.append(random.randint(1,15))\n",
        "numlist.append(random.randint(1,15))\n",
        "numlist.append(random.randint(1,15))\n",
        "print(f\"랜덤 숫자 7개: {numlist}\")\n",
        "print(f\"짝수번째 값들: {numlist[1]} {numlist[3]} {numlist[5]}\")"
      ],
      "metadata": {
        "colab": {
          "base_uri": "https://localhost:8080/"
        },
        "id": "BKoj_goMrp8H",
        "outputId": "4343f112-7a0f-41ca-ce34-0da1236902e5"
      },
      "execution_count": 68,
      "outputs": [
        {
          "output_type": "stream",
          "name": "stdout",
          "text": [
            "랜덤 숫자 7개: [15, 4, 12, 11, 3, 12, 9]\n",
            "짝수번째 값들: 4 11 12\n"
          ]
        }
      ]
    },
    {
      "cell_type": "code",
      "source": [
        "\n",
        "student=[100,52,74,98,89,83,91,90,72,79]\n",
        "\n",
        "for i in student:\n",
        "  if i == 100:\n",
        "    print(f\"perfect: {student.count(i)}\")\n",
        "for i in student:\n",
        "  if 90<=i<100:\n",
        "    print(f'90 ~ 100 : {student.count(i)}')\n",
        "for i in student:\n",
        "  if 80<=i<90:\n",
        "    print(f'80 ~ 90 : {student.count(i)}')\n",
        "for i in student:\n",
        "  if 70<=i<80:\n",
        "    print(f'70 ~ 80 : {student.count(i)}')\n",
        "for i in student:\n",
        "  if 60<=i<70:\n",
        "    print(f'60 ~ 70 : {student.count(i)}')  \n",
        "for i in student:\n",
        "  if 50<=i<60:\n",
        "    print(f'50 ~ 60 : {student.count(i)}')\n"
      ],
      "metadata": {
        "colab": {
          "base_uri": "https://localhost:8080/"
        },
        "id": "vy_RKPAgst8p",
        "outputId": "05aecfac-23c4-46d7-f66c-677c9aeee415"
      },
      "execution_count": 104,
      "outputs": [
        {
          "output_type": "stream",
          "name": "stdout",
          "text": [
            "perfect: 1\n",
            "50 ~ 60 : 1\n",
            "70 ~ 80 : 1\n",
            "90 ~ 100 : 1\n",
            "80 ~ 90 : 1\n",
            "80 ~ 90 : 1\n",
            "90 ~ 100 : 1\n",
            "90 ~ 100 : 1\n",
            "70 ~ 80 : 1\n",
            "70 ~ 80 : 1\n",
            "perfect: 1\n",
            "90 ~ 100 : 1\n",
            "90 ~ 100 : 1\n",
            "90 ~ 100 : 1\n",
            "80 ~ 90 : 1\n",
            "80 ~ 90 : 1\n",
            "70 ~ 80 : 1\n",
            "70 ~ 80 : 1\n",
            "70 ~ 80 : 1\n",
            "50 ~ 60 : 1\n"
          ]
        }
      ]
    },
    {
      "cell_type": "code",
      "source": [],
      "metadata": {
        "id": "-ZKrE6-21cPQ"
      },
      "execution_count": null,
      "outputs": []
    }
  ]
}