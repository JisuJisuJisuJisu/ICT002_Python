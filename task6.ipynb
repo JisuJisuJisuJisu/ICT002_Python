{
  "nbformat": 4,
  "nbformat_minor": 0,
  "metadata": {
    "colab": {
      "provenance": [],
      "authorship_tag": "ABX9TyNJVAST59IfTH7yQvESOFG7",
      "include_colab_link": true
    },
    "kernelspec": {
      "name": "python3",
      "display_name": "Python 3"
    },
    "language_info": {
      "name": "python"
    }
  },
  "cells": [
    {
      "cell_type": "markdown",
      "metadata": {
        "id": "view-in-github",
        "colab_type": "text"
      },
      "source": [
        "<a href=\"https://colab.research.google.com/github/JisuJisuJisuJisu/ICT002_Python/blob/main/task6.ipynb\" target=\"_parent\"><img src=\"https://colab.research.google.com/assets/colab-badge.svg\" alt=\"Open In Colab\"/></a>"
      ]
    },
    {
      "cell_type": "code",
      "execution_count": null,
      "metadata": {
        "colab": {
          "base_uri": "https://localhost:8080/"
        },
        "id": "UGIVXyKpp54v",
        "outputId": "ea533d26-3b3a-47b3-ffab-619e75c11fdf"
      },
      "outputs": [
        {
          "output_type": "stream",
          "name": "stdout",
          "text": [
            "<class 'tuple'>\n",
            "Java\n",
            "C\n",
            "Python\n",
            "R\n",
            "Web\n"
          ]
        }
      ],
      "source": [
        "#printPrg(\"Java\",\"C\",\"Python\",\"R\",\"Web\")\n",
        "\n",
        "\n",
        "def printArgs(*args):\n",
        "  print(type(args))\n",
        "  for i in args:\n",
        "    print(i)\n",
        "\n",
        "\n",
        "printArgs(\"Java\",\"C\",\"Python\",\"R\",\"Web\")"
      ]
    },
    {
      "cell_type": "code",
      "source": [
        "def printArgs(*args): #매개변수 함수 정의\n",
        "  print(type(args)) #매개변수를 받을 때 데이터 유형 표시\n",
        "  for i in args:\n",
        "    print(i)\n",
        "printArgs(\"Python\", \"Programming\", \"is\",\"first\",\"language.\") #함수 호출\n"
      ],
      "metadata": {
        "colab": {
          "base_uri": "https://localhost:8080/"
        },
        "id": "lfHeKLip5Tdh",
        "outputId": "675aa88e-37a0-45c7-f5ab-7e8e14d5c832"
      },
      "execution_count": null,
      "outputs": [
        {
          "output_type": "stream",
          "name": "stdout",
          "text": [
            "<class 'tuple'>\n",
            "Python\n",
            "Programming\n",
            "is\n",
            "first\n",
            "language.\n"
          ]
        }
      ]
    }
  ]
}