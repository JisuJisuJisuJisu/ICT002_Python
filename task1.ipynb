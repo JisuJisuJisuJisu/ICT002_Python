{
  "nbformat": 4,
  "nbformat_minor": 0,
  "metadata": {
    "colab": {
      "provenance": [],
      "collapsed_sections": []
    },
    "kernelspec": {
      "name": "python3",
      "display_name": "Python 3"
    },
    "language_info": {
      "name": "python"
    }
  },
  "cells": [
    {
      "cell_type": "code",
      "execution_count": 9,
      "metadata": {
        "colab": {
          "base_uri": "https://localhost:8080/"
        },
        "id": "ZD4fvVwmTLme",
        "outputId": "21f0e8ee-a87f-4ae9-ad55-bd0bc8f00c26"
      },
      "outputs": [
        {
          "output_type": "stream",
          "name": "stdout",
          "text": [
            "국어 : 100\n",
            "영어 : 80\n",
            "수학 : 75\n",
            "총점 : 255\n",
            "평균 : 85.00\n"
          ]
        }
      ],
      "source": [
        "kor=100\n",
        "eng=80\n",
        "math=75\n",
        "a=kor+eng+math\n",
        "b=a/3\n",
        "\n",
        "print(\"국어 :\",kor)\n",
        "print(\"영어 :\",eng)\n",
        "print(\"수학 :\",math)\n",
        "print(\"총점 :\",a)\n",
        "print(\"평균 : {0:.2f}\".format(b))"
      ]
    },
    {
      "cell_type": "code",
      "source": [],
      "metadata": {
        "id": "N8N3ZyzZWGxV"
      },
      "execution_count": null,
      "outputs": []
    }
  ]
}