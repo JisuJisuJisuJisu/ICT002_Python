{
  "nbformat": 4,
  "nbformat_minor": 0,
  "metadata": {
    "colab": {
      "provenance": [],
      "collapsed_sections": [],
      "authorship_tag": "ABX9TyOmm9640/LFYjd7/wWqzfLP",
      "include_colab_link": true
    },
    "kernelspec": {
      "name": "python3",
      "display_name": "Python 3"
    },
    "language_info": {
      "name": "python"
    }
  },
  "cells": [
    {
      "cell_type": "markdown",
      "metadata": {
        "id": "view-in-github",
        "colab_type": "text"
      },
      "source": [
        "<a href=\"https://colab.research.google.com/github/JisuJisuJisuJisu/ICT002_Python/blob/main/task3.ipynb\" target=\"_parent\"><img src=\"https://colab.research.google.com/assets/colab-badge.svg\" alt=\"Open In Colab\"/></a>"
      ]
    },
    {
      "cell_type": "code",
      "execution_count": null,
      "metadata": {
        "colab": {
          "base_uri": "https://localhost:8080/"
        },
        "id": "7AXuUzIsutri",
        "outputId": "f609f63d-bab4-4b96-cb24-b3a9161dc9fd"
      },
      "outputs": [
        {
          "output_type": "stream",
          "name": "stdout",
          "text": [
            "dog\n",
            "duck\n",
            "pony\n",
            "cat\n"
          ]
        }
      ],
      "source": [
        "animal=[\"dog\", \"duck\",\"pony\",\"donkey\",\"giraffe\",\"elephant\",\"cat\"]\n",
        "for name in animal:\n",
        "  if len(name)<5:\n",
        "    print(name)"
      ]
    }
  ]
}