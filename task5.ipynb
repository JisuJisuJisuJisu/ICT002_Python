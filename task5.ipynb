{
  "nbformat": 4,
  "nbformat_minor": 0,
  "metadata": {
    "colab": {
      "provenance": [],
      "authorship_tag": "ABX9TyNtxN4jMUE7KQbgiIZa5LBI",
      "include_colab_link": true
    },
    "kernelspec": {
      "name": "python3",
      "display_name": "Python 3"
    },
    "language_info": {
      "name": "python"
    }
  },
  "cells": [
    {
      "cell_type": "markdown",
      "metadata": {
        "id": "view-in-github",
        "colab_type": "text"
      },
      "source": [
        "<a href=\"https://colab.research.google.com/github/JisuJisuJisuJisu/ICT002_Python/blob/main/task5.ipynb\" target=\"_parent\"><img src=\"https://colab.research.google.com/assets/colab-badge.svg\" alt=\"Open In Colab\"/></a>"
      ]
    },
    {
      "cell_type": "code",
      "execution_count": 69,
      "metadata": {
        "colab": {
          "base_uri": "https://localhost:8080/"
        },
        "id": "Tk02WKRo_oOP",
        "outputId": "586aca65-35f4-4739-e8cf-8039c805d998"
      },
      "outputs": [
        {
          "output_type": "stream",
          "name": "stdout",
          "text": [
            "영화제목      예매율     순위\n",
            "========    ======   ====\n",
            "노타임투다이    52.5     1\n",
            "오징어게임    50.45     1\n",
            "이터널스    35.46     1\n",
            "스파이더맨    15.47     1\n",
            "그레비티    9.8     1\n"
          ]
        }
      ],
      "source": [
        "movie_list=[(\"오징어게임\",50.45),(\"이터널스\",35.46),(\"그레비티\",9.8),(\"노타임투다이\",52.5),(\"스파이더맨\",15.47)]\n",
        "#movie={}\n",
        "#movie[\"오징어게임\"]=50.45\n",
        "#movie[\"이터널스\"]=35.46\n",
        "#movie[\"그레비티\"]=9.8\n",
        "#movie[\"노타임투다이\"]=52.5\n",
        "#movie[\"스파이더맨\"]=15.47\n",
        "#print(movie)\n",
        "\n",
        "newMovie_list=sorted(movie_list, key=lambda x:x[1], reverse=True)\n",
        "#print(newMovie_list)\n",
        "print(\"영화제목      예매율     순위\")\n",
        "print(\"========    ======   ====\")\n",
        "for i,j in newMovie_list:\n",
        "  print(i  ,\"  \",j,\"   \",newMovie_list.index(('노타임투다이', 52.5))+1)\n",
        "\n"
      ]
    },
    {
      "cell_type": "code",
      "source": [
        "movie_list=[(\"오징어게임\",50.45),(\"이터널스\",35.46),(\"그레비티\",9.8),(\"노타임투다이\",52.5),(\"스파이더맨\",15.47)]\n",
        "#movie={}\n",
        "#movie[\"오징어게임\"]=50.45\n",
        "#movie[\"이터널스\"]=35.46\n",
        "#movie[\"그레비티\"]=9.8\n",
        "#movie[\"노타임투다이\"]=52.5\n",
        "#movie[\"스파이더맨\"]=15.47\n",
        "#print(movie)\n",
        "\n",
        "newMovie_list=sorted(movie_list, key=lambda x:x[1], reverse=True)\n",
        "#print(newMovie_list)\n",
        "print(\"영화제목      예매율     순위\")\n",
        "print(\"========    ======   ====\")\n",
        "for i,j in newMovie_list:\n",
        "  print(i  ,\"  \",j)\n",
        "  for n in newMovie_list:\n",
        "    print(newMovie_list.index(n))\n"
      ],
      "metadata": {
        "colab": {
          "base_uri": "https://localhost:8080/"
        },
        "id": "IDEMl7lDLpYa",
        "outputId": "d85a66f0-fc15-450d-97ea-58a22b2091a0"
      },
      "execution_count": 68,
      "outputs": [
        {
          "output_type": "stream",
          "name": "stdout",
          "text": [
            "영화제목      예매율     순위\n",
            "========    ======   ====\n",
            "노타임투다이    52.5\n",
            "0\n",
            "1\n",
            "2\n",
            "3\n",
            "4\n",
            "오징어게임    50.45\n",
            "0\n",
            "1\n",
            "2\n",
            "3\n",
            "4\n",
            "이터널스    35.46\n",
            "0\n",
            "1\n",
            "2\n",
            "3\n",
            "4\n",
            "스파이더맨    15.47\n",
            "0\n",
            "1\n",
            "2\n",
            "3\n",
            "4\n",
            "그레비티    9.8\n",
            "0\n",
            "1\n",
            "2\n",
            "3\n",
            "4\n"
          ]
        }
      ]
    }
  ]
}