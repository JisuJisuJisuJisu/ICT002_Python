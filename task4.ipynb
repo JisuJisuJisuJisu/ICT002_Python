{
  "nbformat": 4,
  "nbformat_minor": 0,
  "metadata": {
    "colab": {
      "provenance": [],
      "authorship_tag": "ABX9TyPXToshn7FXArtU+Q1U6j/G",
      "include_colab_link": true
    },
    "kernelspec": {
      "name": "python3",
      "display_name": "Python 3"
    },
    "language_info": {
      "name": "python"
    }
  },
  "cells": [
    {
      "cell_type": "markdown",
      "metadata": {
        "id": "view-in-github",
        "colab_type": "text"
      },
      "source": [
        "<a href=\"https://colab.research.google.com/github/JisuJisuJisuJisu/ICT002_Python/blob/main/task4.ipynb\" target=\"_parent\"><img src=\"https://colab.research.google.com/assets/colab-badge.svg\" alt=\"Open In Colab\"/></a>"
      ]
    },
    {
      "cell_type": "code",
      "execution_count": 61,
      "metadata": {
        "colab": {
          "base_uri": "https://localhost:8080/"
        },
        "id": "F7srAruopQUW",
        "outputId": "52626ad6-5425-4801-d32b-4de8e99814be"
      },
      "outputs": [
        {
          "output_type": "stream",
          "name": "stdout",
          "text": [
            "해바라기 4\n",
            "수선화 3\n",
            "장미 2\n",
            "백합 2\n",
            "튤립 2\n",
            "국화 2\n"
          ]
        }
      ],
      "source": [
        "flower=[\"장미\",\"백합\",\"튤립\",\"국화\",\"수선화\"]\n",
        "flower.append(\"해바라기\")\n",
        "flower2=[len(flower[0]),len(flower[1]),len(flower[2]),len(flower[3]),len(flower[4]),len(flower[5])]\n",
        "flower3=flower2.sort(reverse=True)\n",
        "\n",
        "for i in range(0,6,1):\n",
        "  if len(flower[i])==4:\n",
        "    print(flower[i],flower2[0])\n",
        "for i in range(0,6,1):\n",
        "  if len(flower[i])==3:\n",
        "    print(flower[i],flower2[1])\n",
        "for i in range(0,6,1):\n",
        "  if len(flower[i])==2:\n",
        "    print(flower[i],flower2[3])\n",
        "\n",
        "\n"
      ]
    }
  ]
}